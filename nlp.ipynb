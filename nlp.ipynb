{
  "nbformat": 4,
  "nbformat_minor": 0,
  "metadata": {
    "colab": {
      "provenance": [],
      "gpuType": "T4"
    },
    "kernelspec": {
      "name": "python3",
      "display_name": "Python 3"
    },
    "language_info": {
      "name": "python"
    },
    "accelerator": "GPU"
  },
  "cells": [
    {
      "cell_type": "code",
      "source": [
        "import pandas as pd\n",
        "import random\n",
        "import string\n",
        "from nltk.tokenize import word_tokenize\n",
        "from nltk.corpus import stopwords\n",
        "from nltk.stem import WordNetLemmatizer\n",
        "import re"
      ],
      "metadata": {
        "id": "YmBMCMsJlJZm"
      },
      "execution_count": 5,
      "outputs": []
    },
    {
      "cell_type": "code",
      "source": [
        "file_path = \"/kaggle/input/wikisplit-new-version/test.tsv\"\n",
        "data_test = pd.read_csv(file_path, sep='<::::>', header=None, names=['unsplit_sentence', 'split_sentence'])"
      ],
      "metadata": {
        "id": "vBjsET9NlKMQ"
      },
      "execution_count": null,
      "outputs": []
    },
    {
      "cell_type": "code",
      "source": [
        "data_test.head()\n"
      ],
      "metadata": {
        "id": "jvT031NYlNcY"
      },
      "execution_count": null,
      "outputs": []
    },
    {
      "cell_type": "code",
      "source": [
        "file_path = \"/kaggle/input/wikisplit-new-version/tune.tsv\"\n",
        "data_tune = pd.read_csv(file_path, sep='<::::>', header=None, names=['unsplit_sentence', 'split_sentence'])"
      ],
      "metadata": {
        "id": "aa-3eMomlTZ6"
      },
      "execution_count": null,
      "outputs": []
    },
    {
      "cell_type": "code",
      "source": [
        "data_tune\n"
      ],
      "metadata": {
        "id": "zLZYz9LxlYre"
      },
      "execution_count": null,
      "outputs": []
    },
    {
      "cell_type": "code",
      "source": [
        "file_path = \"/kaggle/input/wikisplit-new-version/validation.tsv\"\n",
        "data_valid = pd.read_csv(file_path, sep='<::::>', header=None, names=['unsplit_sentence', 'split_sentence'])"
      ],
      "metadata": {
        "id": "ppklJipQlbCB"
      },
      "execution_count": null,
      "outputs": []
    },
    {
      "cell_type": "code",
      "source": [
        "data_valid"
      ],
      "metadata": {
        "id": "9z155DStlhs1"
      },
      "execution_count": null,
      "outputs": []
    },
    {
      "cell_type": "code",
      "source": [
        "!pip install pyspellchecker"
      ],
      "metadata": {
        "id": "5_UmUUEXlnw4"
      },
      "execution_count": null,
      "outputs": []
    },
    {
      "cell_type": "code",
      "source": [
        "import random\n",
        "from spellchecker import SpellChecker"
      ],
      "metadata": {
        "id": "VkpZ6-PPlr7G"
      },
      "execution_count": null,
      "outputs": []
    },
    {
      "cell_type": "code",
      "source": [
        "def preprocess_text(text):\n",
        "    text = text.lower()\n",
        "    text = ''.join([char if char.isalpha() or char.isspace() else ' ' for char in text])\n",
        "    stop_words = set(stopwords.words('english'))\n",
        "    words = word_tokenize(text)\n",
        "    filtered_words = [word for word in words if word not in stop_words]\n",
        "    return ' '.join(filtered_words)"
      ],
      "metadata": {
        "id": "i6vLQloZlvTg"
      },
      "execution_count": null,
      "outputs": []
    },
    {
      "cell_type": "code",
      "source": [
        "def remove_random_characters(word):\n",
        "    if len(word) > 6:\n",
        "        num_deletions = 2\n",
        "    else:\n",
        "        num_deletions = 1\n",
        "\n",
        "    indices = random.sample([i for i, char in enumerate(word) if char != ' '], num_deletions)\n",
        "\n",
        "    new_word = [char if i not in indices else '' for i, char in enumerate(word)]\n",
        "\n",
        "    new_word = ''.join(new_word)\n",
        "\n",
        "    return new_word"
      ],
      "metadata": {
        "id": "THYGvd8ylzCr"
      },
      "execution_count": null,
      "outputs": []
    },
    {
      "cell_type": "code",
      "source": [
        "def add_random_characters(word):\n",
        "    index = random.randint(0, len(word))\n",
        "    new_char = random.choice(string.ascii_lowercase)\n",
        "    new_word = word[:index] + new_char + word[index:]\n",
        "    return new_word"
      ],
      "metadata": {
        "id": "losHdo4pl2v9"
      },
      "execution_count": null,
      "outputs": []
    },
    {
      "cell_type": "code",
      "source": [
        "def replace_random_characters(word):\n",
        "    if len(word) > 1:\n",
        "        num_replacements = random.randint(1, 2)\n",
        "\n",
        "        indices = random.sample([i for i, char in enumerate(word) if char != ' '], num_replacements)\n",
        "        new_chars = [random.choice(string.ascii_lowercase) for _ in range(num_replacements)]\n",
        "        new_word = ''.join([new_chars.pop(0) if i in indices else char for i, char in enumerate(word)])\n",
        "        return new_word\n",
        "    else :\n",
        "        return word"
      ],
      "metadata": {
        "id": "hErFAejol9Qg"
      },
      "execution_count": null,
      "outputs": []
    },
    {
      "cell_type": "code",
      "source": [
        "def swap_adjacent_characters(word):\n",
        "    if len(word) > 1:\n",
        "        index = random.randint(0, len(word) - 2)\n",
        "        new_word = word[:index] + word[index+1] + word[index] + word[index+2:]\n",
        "        return new_word\n",
        "    else :\n",
        "        return word"
      ],
      "metadata": {
        "id": "FXqFdFu-l-P8"
      },
      "execution_count": null,
      "outputs": []
    },
    {
      "cell_type": "code",
      "source": [
        "def introduce_spelling_errors(text):\n",
        "    new_text = []\n",
        "    words = text.split()\n",
        "    num_words_to_corrupt = int(len(words) * 0.3)\n",
        "    if num_words_to_corrupt == 0:\n",
        "        num_words_to_corrupt = 1\n",
        "    words_to_corrupt = random.sample(words, num_words_to_corrupt)\n",
        "\n",
        "    for word in words:\n",
        "        if word in words_to_corrupt:\n",
        "            error_types = ['deletion', 'insertion', 'swapping', 'replacement']\n",
        "            error_type = random.choice(error_types)\n",
        "\n",
        "            if error_type == 'deletion':\n",
        "                error_word = remove_random_characters(word)\n",
        "            elif error_type == 'insertion':\n",
        "                error_word = add_random_characters(word)\n",
        "            elif error_type == 'swapping':\n",
        "                error_word = swap_adjacent_characters(word)\n",
        "            elif error_type == 'replacement':\n",
        "                error_word = replace_random_characters(word)\n",
        "\n",
        "            new_text.append(error_word)\n",
        "        else:\n",
        "            new_text.append(word)\n",
        "\n",
        "    return ' '.join(new_text)"
      ],
      "metadata": {
        "id": "Q7gzbffFmE0q"
      },
      "execution_count": null,
      "outputs": []
    },
    {
      "cell_type": "code",
      "source": [
        "data_tune['unsplit_sentence'] = data_tune['unsplit_sentence'].apply(preprocess_text)\n",
        "data_valid['unsplit_sentence'] = data_valid['unsplit_sentence'].apply(preprocess_text)\n",
        "data_test['unsplit_sentence'] = data_test['unsplit_sentence'].apply(preprocess_text)\n",
        "\n",
        "\n",
        "# data_tune = pd.concat([data_tune]*3, ignore_index=True)\n",
        "# data_valid = pd.concat([data_valid]*3, ignore_index=True)\n",
        "# data_test = pd.concat([data_test]*3, ignore_index=True)\n",
        "\n",
        "data_tune['misspelled_unsplit_sentence'] = data_tune['unsplit_sentence'].apply(introduce_spelling_errors)\n",
        "data_valid['misspelled_unsplit_sentence'] = data_valid['unsplit_sentence'].apply(introduce_spelling_errors)\n",
        "data_test['misspelled_unsplit_sentence'] = data_test['unsplit_sentence'].apply(introduce_spelling_errors)\n",
        "\n",
        "\n",
        "data_tune.drop('split_sentence', axis=1, inplace=True)\n",
        "data_valid.drop('split_sentence', axis=1, inplace=True)\n",
        "data_test.drop('split_sentence', axis=1, inplace=True)"
      ],
      "metadata": {
        "id": "P8OuH6SimJe7"
      },
      "execution_count": null,
      "outputs": []
    },
    {
      "cell_type": "code",
      "source": [
        "data_tune"
      ],
      "metadata": {
        "id": "OgDVxgiNmQVm"
      },
      "execution_count": null,
      "outputs": []
    },
    {
      "cell_type": "code",
      "source": [
        "data_tune_tokenized = data_tune.rename(columns={\"misspelled_unsplit_sentence\": \"input_text\", \"unsplit_sentence\": \"target_text\"})\n",
        "data_valid_tokenized = data_valid.rename(columns={\"misspelled_unsplit_sentence\": \"input_text\", \"unsplit_sentence\": \"target_text\"})\n",
        "data_test_tokenized = data_test.rename(columns={\"misspelled_unsplit_sentence\": \"input_text\", \"unsplit_sentence\": \"target_text\"})"
      ],
      "metadata": {
        "id": "Ak1CgLYXmULE"
      },
      "execution_count": null,
      "outputs": []
    },
    {
      "cell_type": "code",
      "source": [
        "import torch\n",
        "from transformers import BartForConditionalGeneration, Trainer, TrainingArguments\n",
        "from datasets import Dataset\n",
        "from transformers import BartTokenizer\n",
        "\n",
        "tokenizer = BartTokenizer.from_pretrained(\"facebook/bart-base\")\n",
        "\n",
        "# Define tokenization function\n",
        "def tokenize_function(example):\n",
        "    return tokenizer(example[\"input_text\"], example[\"target_text\"], padding=\"max_length\", truncation=True)\n",
        "\n",
        "# Convert pandas DataFrames to datasets\n",
        "train_dataset = Dataset.from_pandas(data_tune_tokenized)\n",
        "valid_dataset = Dataset.from_pandas(data_valid_tokenized)\n",
        "test_dataset = Dataset.from_pandas(data_test_tokenized)\n",
        "\n",
        "# Tokenize datasets\n",
        "data_tune = train_dataset.map(tokenize_function, batched=True)\n",
        "data_valid = valid_dataset.map(tokenize_function, batched=True)\n",
        "data_test = test_dataset.map(tokenize_function, batched=True)\n",
        "\n",
        "model = BartForConditionalGeneration.from_pretrained(\"facebook/bart-base\")\n",
        "\n",
        "# Define training arguments\n",
        "training_args = TrainingArguments(\n",
        "    output_dir=\"/kaggle/working/results\",\n",
        "    num_train_epochs=10,\n",
        "    per_device_train_batch_size=2,\n",
        "    per_device_eval_batch_size=2,\n",
        "    logging_dir=\"/kaggle/working/logs\",\n",
        "    logging_steps=100,\n",
        "    evaluation_strategy=\"epoch\",\n",
        "    save_strategy=\"epoch\",\n",
        ")\n",
        "\n",
        "# Instantiate Trainer\n",
        "trainer = Trainer(\n",
        "    model=model,\n",
        "    args=training_args,\n",
        "    train_dataset=data_tune,\n",
        "    eval_dataset=data_valid,\n",
        ")\n",
        "\n",
        "trainer.train()\n",
        "\n",
        "trainer.evaluate(data_test)"
      ],
      "metadata": {
        "id": "C1YqynTCmYaT"
      },
      "execution_count": null,
      "outputs": []
    },
    {
      "cell_type": "code",
      "source": [
        "import torch\n",
        "from transformers import T5ForConditionalGeneration, T5Tokenizer, Trainer, TrainingArguments\n",
        "from sklearn.model_selection import train_test_split\n",
        "import pandas as pd\n",
        "\n",
        "data_tune_sample = data_tune.sample(n=500, random_state=42)\n",
        "data_valid_sample = data_valid.sample(n=500, random_state=42)\n",
        "data_test_sample = data_test.sample(n=500, random_state=42)\n",
        "\n",
        "# Step 2: Tokenize data and prepare for training\n",
        "tokenizer = T5Tokenizer.from_pretrained(\"t5-small\")\n",
        "\n",
        "train_encodings = tokenizer(list(data_tune['misspelled_unsplit_sentence']), return_tensors=\"pt\", padding=True, truncation=True)\n",
        "train_labels_encodings = tokenizer(list(data_tune['unsplit_sentence']), return_tensors=\"pt\", padding=True, truncation=True)\n",
        "\n",
        "val_encodings = tokenizer(list(data_valid['misspelled_unsplit_sentence']), return_tensors=\"pt\", padding=True, truncation=True)\n",
        "val_labels_encodings = tokenizer(list(data_valid['unsplit_sentence']), return_tensors=\"pt\", padding=True, truncation=True)\n",
        "\n",
        "class SpellingCorrectionDataset(torch.utils.data.Dataset):\n",
        "    def __init__(self, encodings, labels_encodings):\n",
        "        self.encodings = encodings\n",
        "        self.labels_encodings = labels_encodings\n",
        "\n",
        "    def __getitem__(self, idx):\n",
        "        item = {key: torch.tensor(val[idx]) for key, val in self.encodings.items()}\n",
        "        item[\"labels\"] = self.labels_encodings[\"input_ids\"][idx]\n",
        "        return item\n",
        "\n",
        "    def __len__(self):\n",
        "        return len(self.encodings.input_ids)\n",
        "\n",
        "train_dataset = SpellingCorrectionDataset(train_encodings, train_labels_encodings)\n",
        "val_dataset = SpellingCorrectionDataset(val_encodings, val_labels_encodings)\n",
        "\n",
        "# Step 3: Fine-tune T5 model\n",
        "training_args = TrainingArguments(\n",
        "    output_dir='/kaggle/working/results',\n",
        "    per_device_train_batch_size=2,\n",
        "    per_device_eval_batch_size=2,\n",
        "    num_train_epochs=3,\n",
        "    logging_dir='/kaggle/working/logs',\n",
        ")\n",
        "\n",
        "model = T5ForConditionalGeneration.from_pretrained(\"t5-small\")\n",
        "\n",
        "def compute_metrics(pred):\n",
        "    labels_ids = pred.label_ids\n",
        "    pred_ids = pred.predictions\n",
        "\n",
        "    # Replace -100 in the labels as we can't decode them.\n",
        "    pred_str = tokenizer.batch_decode(pred_ids, skip_special_tokens=True)\n",
        "    labels_ids[labels_ids == -100] = tokenizer.pad_token_id\n",
        "\n",
        "    label_str = tokenizer.batch_decode(labels_ids, skip_special_tokens=True)\n",
        "\n",
        "    return {\"bleu\": bleu_score(pred_str, label_str)}\n",
        "\n",
        "trainer = Trainer(\n",
        "    model=model,\n",
        "    args=training_args,\n",
        "    data_collator=lambda data: {\n",
        "        \"input_ids\": torch.stack([f[\"input_ids\"] for f in data]),\n",
        "        \"labels\": torch.stack([f[\"labels\"] for f in data]),\n",
        "    },\n",
        "    train_dataset=train_dataset,\n",
        "    eval_dataset=val_dataset,\n",
        "    compute_metrics=compute_metrics,\n",
        ")\n",
        "\n",
        "trainer.train()\n",
        "\n",
        "# Now, let's handle the test data\n",
        "\n",
        "test_encodings = tokenizer(list(data_test['misspelled_unsplit_sentence']), return_tensors=\"pt\", padding=True, truncation=True)\n",
        "test_labels_encodings = tokenizer(list(data_test['unsplit_sentence']), return_tensors=\"pt\", padding=True, truncation=True)\n",
        "\n",
        "test_dataset = SpellingCorrectionDataset(test_encodings, test_labels_encodings)\n",
        "\n",
        "# Evaluate the fine-tuned model on the test dataset\n",
        "test_results = trainer.evaluate(eval_dataset=test_dataset)\n",
        "print(test_results)"
      ],
      "metadata": {
        "id": "KLBYymmrmkh_"
      },
      "execution_count": null,
      "outputs": []
    }
  ]
}